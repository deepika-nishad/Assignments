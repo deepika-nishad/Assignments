{
 "cells": [
  {
   "cell_type": "markdown",
   "id": "6ae563a6",
   "metadata": {},
   "source": [
    "# Task 1"
   ]
  },
  {
   "cell_type": "code",
   "execution_count": 4,
   "id": "978433e7",
   "metadata": {},
   "outputs": [
    {
     "name": "stdout",
     "output_type": "stream",
     "text": [
      "100\n"
     ]
    }
   ],
   "source": [
    "def myreduce(add,list_1):\n",
    "    return a\n",
    "def add(a,b):\n",
    "    return a+b\n",
    "\n",
    "list_1=[10,15,25,40,10]\n",
    "a=list_1[0]\n",
    "\n",
    "for i in range(1,len(list_1)):\n",
    "    b=list_1[i]\n",
    "    a=add(a,b)\n",
    "    \n",
    "print(myreduce(add,list_1))"
   ]
  },
  {
   "cell_type": "code",
   "execution_count": 5,
   "id": "49cf7364",
   "metadata": {},
   "outputs": [
    {
     "name": "stdout",
     "output_type": "stream",
     "text": [
      "[2, 4, 6, 8, 10]\n"
     ]
    }
   ],
   "source": [
    "def myfilter(is_even,list_2):\n",
    "    return is_even(a)\n",
    "\n",
    "list_2=[2,3,4,5,6,7,8,9,10]\n",
    "list_3=[]\n",
    "\n",
    "def is_even(a):\n",
    "    for i in list_2:\n",
    "        if i%2==0:\n",
    "            list_3.append(i)\n",
    "    print(list_3)\n",
    "    \n",
    "myfilter(is_even,list_2)"
   ]
  },
  {
   "cell_type": "code",
   "execution_count": 7,
   "id": "b8291334",
   "metadata": {},
   "outputs": [
    {
     "data": {
      "text/plain": [
       "[0, 1, 2, 3, 4, 5, 6, 7, 8, 9]"
      ]
     },
     "execution_count": 7,
     "metadata": {},
     "output_type": "execute_result"
    }
   ],
   "source": [
    "a= [x for x in range(10)]\n",
    "a"
   ]
  },
  {
   "cell_type": "code",
   "execution_count": 21,
   "id": "8f874859",
   "metadata": {},
   "outputs": [
    {
     "name": "stdout",
     "output_type": "stream",
     "text": [
      "['A', 'C', 'A', 'D', 'G', 'I', 'L', 'D']\n"
     ]
    }
   ],
   "source": [
    "a = \"ACADGILD\"\n",
    "b = [i for i in a]\n",
    "print (str(b))"
   ]
  },
  {
   "cell_type": "code",
   "execution_count": 24,
   "id": "6221bb45",
   "metadata": {},
   "outputs": [
    {
     "name": "stdout",
     "output_type": "stream",
     "text": [
      "['x', 'xx', 'xxx', 'xxxx', 'y', 'yy', 'yyy', 'yyyy', 'z', 'zz', 'zzz', 'zzzz']\n"
     ]
    }
   ],
   "source": [
    "a = ['x','y','z']\n",
    "\n",
    "result = [item*num for item in a for num in range(1,5)]\n",
    "\n",
    "print(str(result))"
   ]
  },
  {
   "cell_type": "code",
   "execution_count": 30,
   "id": "7afb1ece",
   "metadata": {},
   "outputs": [
    {
     "name": "stdout",
     "output_type": "stream",
     "text": [
      "['x', 'y', 'z', 'xx', 'yy', 'zz', 'xxx', 'yyy', 'zzz', 'xxxx', 'yyyy', 'zzzz']\n"
     ]
    }
   ],
   "source": [
    "a = ['x','y','z']\n",
    "\n",
    "result = [item*num for num in range(1,5) for item in a]\n",
    "\n",
    "print(str(result))"
   ]
  },
  {
   "cell_type": "code",
   "execution_count": 32,
   "id": "6362e39d",
   "metadata": {},
   "outputs": [
    {
     "name": "stdout",
     "output_type": "stream",
     "text": [
      "[[2], [3], [4], [3], [4], [5], [4], [5], [6]]\n"
     ]
    }
   ],
   "source": [
    "a = [2,3,4]\n",
    "result = [ [item+num] for item in a for num in range(0,3)]\n",
    "print(str(result))"
   ]
  },
  {
   "cell_type": "code",
   "execution_count": 33,
   "id": "28c166ae",
   "metadata": {},
   "outputs": [
    {
     "name": "stdout",
     "output_type": "stream",
     "text": [
      "[[2, 3, 4, 5], [3, 4, 5, 6], [4, 5, 6, 7], [5, 6, 7, 8]]\n"
     ]
    }
   ],
   "source": [
    "a = [2,3,4,5]\n",
    "result = [ [item+num for item in a] for num in range(0,4)]\n",
    "print(str(result))"
   ]
  },
  {
   "cell_type": "code",
   "execution_count": 36,
   "id": "865875be",
   "metadata": {},
   "outputs": [
    {
     "name": "stdout",
     "output_type": "stream",
     "text": [
      "[(2, 1), (3, 1), (4, 1), (2, 2), (3, 2), (4, 2), (2, 3), (3, 3), (4, 3)]\n"
     ]
    }
   ],
   "source": [
    "z=[1,2,3]\n",
    "result = [(b,a) for a in z for b in input_list]\n",
    "print(str(result))"
   ]
  },
  {
   "cell_type": "code",
   "execution_count": 38,
   "id": "614093e1",
   "metadata": {},
   "outputs": [
    {
     "name": "stdout",
     "output_type": "stream",
     "text": [
      "Exercises\n"
     ]
    }
   ],
   "source": [
    "def LongestWord(words_list):\n",
    "    word_len = []\n",
    "    for n in words_list:\n",
    "        word_len.append((len(n), n))\n",
    "    word_len.sort()\n",
    "    return word_len[-1][0], word_len[-1][1]\n",
    "\n",
    "result = LongestWord([\"PHP\", \"Exercises\", \"Backend\"])\n",
    "print(result[1])"
   ]
  },
  {
   "cell_type": "markdown",
   "id": "9f42bde9",
   "metadata": {},
   "source": [
    "# Task 2"
   ]
  },
  {
   "cell_type": "code",
   "execution_count": 66,
   "id": "4dcb61b9",
   "metadata": {},
   "outputs": [
    {
     "name": "stdout",
     "output_type": "stream",
     "text": [
      "a=5\n",
      "b=5\n",
      "c=5\n",
      "area : 10.825317547305483\n"
     ]
    }
   ],
   "source": [
    "class poly:\n",
    "    def __init__(self,a,b,c):\n",
    "        self.a = float(a)\n",
    "        self.b = float(b)\n",
    "        self.c = float(c)\n",
    "a= int(input(\"a=\"))\n",
    "b= int(input(\"b=\"))\n",
    "c= int(input(\"c=\"))\n",
    "\n",
    "class triangle(poly):\n",
    "    def __init__(self,a,b,c):\n",
    "        super().__init__(a,b,c)\n",
    "\n",
    "    def get_area(self):\n",
    "        s = (a + b + c) / 2\n",
    "        return (s*(s-a)*(s-b)*(s-c)) ** 0.5        \n",
    "\n",
    "t = triangle(a,b,c)\n",
    "print(\"area : {}\".format(t.get_area()))"
   ]
  },
  {
   "cell_type": "code",
   "execution_count": 69,
   "id": "4aa83e8b",
   "metadata": {},
   "outputs": [
    {
     "name": "stdout",
     "output_type": "stream",
     "text": [
      "Please input the list of words: Hi my name is CocoMelon\n",
      "Please input an integer: 4\n",
      "The list of words greater than the integer is []\n"
     ]
    }
   ],
   "source": [
    "def filterlongword(string,number):\n",
    "    return [word for word in string if len(word) > number]\n",
    "\n",
    "def main():\n",
    "    words = input(\"Please input the list of words: \")\n",
    "    integer = eval(input(\"Please input an integer: \"))\n",
    "\n",
    "    words1 = filterlongword(words,integer)\n",
    "\n",
    "    print(\"The list of words greater than the integer is\",words1)\n",
    "\n",
    "main()"
   ]
  },
  {
   "cell_type": "code",
   "execution_count": 71,
   "id": "6f18a5be",
   "metadata": {},
   "outputs": [
    {
     "name": "stdout",
     "output_type": "stream",
     "text": [
      "List of Word: Hi my name is cocomelon\n",
      "List of wordlength:[2, 2, 4, 2, 9]\n"
     ]
    }
   ],
   "source": [
    "listOfWords = input('List of Word: ').split()\n",
    "listOfInts = []\n",
    "\n",
    "for i in range(len(listOfWords)):\n",
    "   listOfInts.append(len(listOfWords[i]))\n",
    "\n",
    "print(\"List of wordlength:\" + str(listOfInts))"
   ]
  },
  {
   "cell_type": "code",
   "execution_count": 72,
   "id": "a7add77c",
   "metadata": {},
   "outputs": [
    {
     "name": "stdout",
     "output_type": "stream",
     "text": [
      "False\n",
      "True\n"
     ]
    }
   ],
   "source": [
    "#source code\n",
    "\n",
    "def is_vowel(char):\n",
    "    all_vowels = 'aeiou'\n",
    "    return char in all_vowels\n",
    "print(is_vowel('c'))\n",
    "print(is_vowel('e'))"
   ]
  },
  {
   "cell_type": "code",
   "execution_count": null,
   "id": "123ae853",
   "metadata": {},
   "outputs": [],
   "source": []
  }
 ],
 "metadata": {
  "kernelspec": {
   "display_name": "Python 3",
   "language": "python",
   "name": "python3"
  },
  "language_info": {
   "codemirror_mode": {
    "name": "ipython",
    "version": 3
   },
   "file_extension": ".py",
   "mimetype": "text/x-python",
   "name": "python",
   "nbconvert_exporter": "python",
   "pygments_lexer": "ipython3",
   "version": "3.8.8"
  }
 },
 "nbformat": 4,
 "nbformat_minor": 5
}
